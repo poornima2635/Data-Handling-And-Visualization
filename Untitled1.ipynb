{
  "nbformat": 4,
  "nbformat_minor": 0,
  "metadata": {
    "colab": {
      "provenance": [],
      "authorship_tag": "ABX9TyMvfmJFQEVP9zC8nuT7upnj",
      "include_colab_link": true
    },
    "kernelspec": {
      "name": "python3",
      "display_name": "Python 3"
    },
    "language_info": {
      "name": "python"
    }
  },
  "cells": [
    {
      "cell_type": "markdown",
      "metadata": {
        "id": "view-in-github",
        "colab_type": "text"
      },
      "source": [
        "<a href=\"https://colab.research.google.com/github/poornima2635/Data-Handling-And-Visualization/blob/main/Untitled1.ipynb\" target=\"_parent\"><img src=\"https://colab.research.google.com/assets/colab-badge.svg\" alt=\"Open In Colab\"/></a>"
      ]
    },
    {
      "cell_type": "code",
      "execution_count": 8,
      "metadata": {
        "colab": {
          "base_uri": "https://localhost:8080/"
        },
        "id": "-8h8adjDeFy9",
        "outputId": "10dd5ce6-b220-4ad0-e54f-6efd4279f208"
      },
      "outputs": [
        {
          "output_type": "stream",
          "name": "stdout",
          "text": [
            "Requirement already satisfied: folium in /usr/local/lib/python3.10/dist-packages (0.14.0)\n",
            "Requirement already satisfied: branca>=0.6.0 in /usr/local/lib/python3.10/dist-packages (from folium) (0.7.2)\n",
            "Requirement already satisfied: jinja2>=2.9 in /usr/local/lib/python3.10/dist-packages (from folium) (3.1.3)\n",
            "Requirement already satisfied: numpy in /usr/local/lib/python3.10/dist-packages (from folium) (1.25.2)\n",
            "Requirement already satisfied: requests in /usr/local/lib/python3.10/dist-packages (from folium) (2.31.0)\n",
            "Requirement already satisfied: MarkupSafe>=2.0 in /usr/local/lib/python3.10/dist-packages (from jinja2>=2.9->folium) (2.1.5)\n",
            "Requirement already satisfied: charset-normalizer<4,>=2 in /usr/local/lib/python3.10/dist-packages (from requests->folium) (3.3.2)\n",
            "Requirement already satisfied: idna<4,>=2.5 in /usr/local/lib/python3.10/dist-packages (from requests->folium) (3.7)\n",
            "Requirement already satisfied: urllib3<3,>=1.21.1 in /usr/local/lib/python3.10/dist-packages (from requests->folium) (2.0.7)\n",
            "Requirement already satisfied: certifi>=2017.4.17 in /usr/local/lib/python3.10/dist-packages (from requests->folium) (2024.2.2)\n"
          ]
        }
      ],
      "source": [
        "!pip install folium"
      ]
    },
    {
      "cell_type": "code",
      "source": [
        "import folium\n",
        "from folium import IFrame\n",
        "\n",
        "# Bengaluru coordinates\n",
        "bengaluru_coords = (12.9716, 77.5946)\n",
        "\n",
        "# Create a map centered around Bengaluru\n",
        "map_bengaluru = folium.Map(location=bengaluru_coords, zoom_start=12)\n",
        "\n",
        "# Add markers with descriptions and images\n",
        "locations = [\n",
        "    {\n",
        "        'name': 'Location 1',\n",
        "        'coords': (12.9750, 77.6206),\n",
        "        'description': 'BHARTIYA MALL of BENGALURU',\n",
        "        'image': 'https://www.imagesbof.in/bhartiya-mall-of-bengaluru/'\n",
        "    },\n",
        "    {\n",
        "        'name': 'Location 2',\n",
        "        'coords': (12.9345, 77.5365),\n",
        "        'description': 'Daddys Indiranagar',\n",
        "        'image': 'https://www.google.com/url?sa=i&url=https%3A%2F%2Fwww.zomato.com%2Fbangalore%2Fdaddy-indiranagar-bangalore&psig=AOvVaw2tZGVtmUV7W6nUzai8Jorq&ust=1714812843301000&source=images&cd=vfe&opi=89978449&ved=0CBIQjRxqFwoTCKjx2eWN8YUDFQAAAAAdAAAAABAE'\n",
        "    }\n",
        "]\n",
        "\n",
        "for loc in locations:\n",
        "    # Create HTML for the popup including description and image\n",
        "    html = f'<h3>{loc[\"name\"]}</h3><p>{loc[\"description\"]}</p><img src=\"{loc[\"image\"]}\" alt=\"Location Image\" style=\"width:200px;height:150px;\">'\n",
        "    iframe = folium.IFrame(html=html, width=300, height=200)\n",
        "    folium.Marker(\n",
        "        location=loc['coords'],\n",
        "        popup=folium.Popup(iframe, max_width=300),\n",
        "        icon=folium.Icon(color='blue')\n",
        "    ).add_to(map_bengaluru)\n",
        "map_bengaluru.save('bengaluru_map_with_markers.html')\n",
        "map_bengaluru\n"
      ],
      "metadata": {
        "colab": {
          "base_uri": "https://localhost:8080/",
          "height": 762
        },
        "id": "8tevGsjHiYv0",
        "outputId": "14d8216a-1756-4abe-e77e-984db3817cf4"
      },
      "execution_count": 21,
      "outputs": [
        {
          "output_type": "execute_result",
          "data": {
            "text/plain": [
              "<folium.folium.Map at 0x78869cbea1d0>"
            ],
            "text/html": [
              "<div style=\"width:100%;\"><div style=\"position:relative;width:100%;height:0;padding-bottom:60%;\"><span style=\"color:#565656\">Make this Notebook Trusted to load map: File -> Trust Notebook</span><iframe srcdoc=\"&lt;!DOCTYPE html&gt;\n",
              "&lt;html&gt;\n",
              "&lt;head&gt;\n",
              "    \n",
              "    &lt;meta http-equiv=&quot;content-type&quot; content=&quot;text/html; charset=UTF-8&quot; /&gt;\n",
              "    \n",
              "        &lt;script&gt;\n",
              "            L_NO_TOUCH = false;\n",
              "            L_DISABLE_3D = false;\n",
              "        &lt;/script&gt;\n",
              "    \n",
              "    &lt;style&gt;html, body {width: 100%;height: 100%;margin: 0;padding: 0;}&lt;/style&gt;\n",
              "    &lt;style&gt;#map {position:absolute;top:0;bottom:0;right:0;left:0;}&lt;/style&gt;\n",
              "    &lt;script src=&quot;https://cdn.jsdelivr.net/npm/leaflet@1.9.3/dist/leaflet.js&quot;&gt;&lt;/script&gt;\n",
              "    &lt;script src=&quot;https://code.jquery.com/jquery-1.12.4.min.js&quot;&gt;&lt;/script&gt;\n",
              "    &lt;script src=&quot;https://cdn.jsdelivr.net/npm/bootstrap@5.2.2/dist/js/bootstrap.bundle.min.js&quot;&gt;&lt;/script&gt;\n",
              "    &lt;script src=&quot;https://cdnjs.cloudflare.com/ajax/libs/Leaflet.awesome-markers/2.0.2/leaflet.awesome-markers.js&quot;&gt;&lt;/script&gt;\n",
              "    &lt;link rel=&quot;stylesheet&quot; href=&quot;https://cdn.jsdelivr.net/npm/leaflet@1.9.3/dist/leaflet.css&quot;/&gt;\n",
              "    &lt;link rel=&quot;stylesheet&quot; href=&quot;https://cdn.jsdelivr.net/npm/bootstrap@5.2.2/dist/css/bootstrap.min.css&quot;/&gt;\n",
              "    &lt;link rel=&quot;stylesheet&quot; href=&quot;https://netdna.bootstrapcdn.com/bootstrap/3.0.0/css/bootstrap.min.css&quot;/&gt;\n",
              "    &lt;link rel=&quot;stylesheet&quot; href=&quot;https://cdn.jsdelivr.net/npm/@fortawesome/fontawesome-free@6.2.0/css/all.min.css&quot;/&gt;\n",
              "    &lt;link rel=&quot;stylesheet&quot; href=&quot;https://cdnjs.cloudflare.com/ajax/libs/Leaflet.awesome-markers/2.0.2/leaflet.awesome-markers.css&quot;/&gt;\n",
              "    &lt;link rel=&quot;stylesheet&quot; href=&quot;https://cdn.jsdelivr.net/gh/python-visualization/folium/folium/templates/leaflet.awesome.rotate.min.css&quot;/&gt;\n",
              "    \n",
              "            &lt;meta name=&quot;viewport&quot; content=&quot;width=device-width,\n",
              "                initial-scale=1.0, maximum-scale=1.0, user-scalable=no&quot; /&gt;\n",
              "            &lt;style&gt;\n",
              "                #map_f07e320bac809785a13f6dc4aaeef3db {\n",
              "                    position: relative;\n",
              "                    width: 100.0%;\n",
              "                    height: 100.0%;\n",
              "                    left: 0.0%;\n",
              "                    top: 0.0%;\n",
              "                }\n",
              "                .leaflet-container { font-size: 1rem; }\n",
              "            &lt;/style&gt;\n",
              "        \n",
              "&lt;/head&gt;\n",
              "&lt;body&gt;\n",
              "    \n",
              "    \n",
              "            &lt;div class=&quot;folium-map&quot; id=&quot;map_f07e320bac809785a13f6dc4aaeef3db&quot; &gt;&lt;/div&gt;\n",
              "        \n",
              "&lt;/body&gt;\n",
              "&lt;script&gt;\n",
              "    \n",
              "    \n",
              "            var map_f07e320bac809785a13f6dc4aaeef3db = L.map(\n",
              "                &quot;map_f07e320bac809785a13f6dc4aaeef3db&quot;,\n",
              "                {\n",
              "                    center: [12.9716, 77.5946],\n",
              "                    crs: L.CRS.EPSG3857,\n",
              "                    zoom: 12,\n",
              "                    zoomControl: true,\n",
              "                    preferCanvas: false,\n",
              "                }\n",
              "            );\n",
              "\n",
              "            \n",
              "\n",
              "        \n",
              "    \n",
              "            var tile_layer_201b2b9cf07818101ccbb082d054a68c = L.tileLayer(\n",
              "                &quot;https://{s}.tile.openstreetmap.org/{z}/{x}/{y}.png&quot;,\n",
              "                {&quot;attribution&quot;: &quot;Data by \\u0026copy; \\u003ca target=\\&quot;_blank\\&quot; href=\\&quot;http://openstreetmap.org\\&quot;\\u003eOpenStreetMap\\u003c/a\\u003e, under \\u003ca target=\\&quot;_blank\\&quot; href=\\&quot;http://www.openstreetmap.org/copyright\\&quot;\\u003eODbL\\u003c/a\\u003e.&quot;, &quot;detectRetina&quot;: false, &quot;maxNativeZoom&quot;: 18, &quot;maxZoom&quot;: 18, &quot;minZoom&quot;: 0, &quot;noWrap&quot;: false, &quot;opacity&quot;: 1, &quot;subdomains&quot;: &quot;abc&quot;, &quot;tms&quot;: false}\n",
              "            ).addTo(map_f07e320bac809785a13f6dc4aaeef3db);\n",
              "        \n",
              "    \n",
              "            var marker_dac59552fefee2062b72d59be8c6e105 = L.marker(\n",
              "                [12.975, 77.6206],\n",
              "                {}\n",
              "            ).addTo(map_f07e320bac809785a13f6dc4aaeef3db);\n",
              "        \n",
              "    \n",
              "            var icon_b88e91d8744e0cdb349c2ad855f8d211 = L.AwesomeMarkers.icon(\n",
              "                {&quot;extraClasses&quot;: &quot;fa-rotate-0&quot;, &quot;icon&quot;: &quot;info-sign&quot;, &quot;iconColor&quot;: &quot;white&quot;, &quot;markerColor&quot;: &quot;blue&quot;, &quot;prefix&quot;: &quot;glyphicon&quot;}\n",
              "            );\n",
              "            marker_dac59552fefee2062b72d59be8c6e105.setIcon(icon_b88e91d8744e0cdb349c2ad855f8d211);\n",
              "        \n",
              "    \n",
              "        var popup_8e2fff1d51c95fb6bb3993ff3e429f49 = L.popup({&quot;maxWidth&quot;: 300});\n",
              "\n",
              "        \n",
              "            \n",
              "                var i_frame_a978cf5c89ea44d7403a711a48fad52d = $(`&lt;iframe src=&quot;data:text/html;charset=utf-8;base64,CiAgICA8aDM+TG9jYXRpb24gMTwvaDM+PHA+QkhBUlRJWUEgTUFMTCBvZiBCRU5HQUxVUlU8L3A+PGltZyBzcmM9Imh0dHBzOi8vd3d3LmltYWdlc2JvZi5pbi9iaGFydGl5YS1tYWxsLW9mLWJlbmdhbHVydS8iIGFsdD0iTG9jYXRpb24gSW1hZ2UiIHN0eWxlPSJ3aWR0aDoyMDBweDtoZWlnaHQ6MTUwcHg7Ij4=&quot; width=&quot;300&quot; style=&quot;border:none !important;&quot; height=&quot;200&quot;&gt;&lt;/iframe&gt;`)[0];\n",
              "                popup_8e2fff1d51c95fb6bb3993ff3e429f49.setContent(i_frame_a978cf5c89ea44d7403a711a48fad52d);\n",
              "            \n",
              "        \n",
              "\n",
              "        marker_dac59552fefee2062b72d59be8c6e105.bindPopup(popup_8e2fff1d51c95fb6bb3993ff3e429f49)\n",
              "        ;\n",
              "\n",
              "        \n",
              "    \n",
              "    \n",
              "            var marker_79f0b58c2dd761c75a7b0f8ee1d3894a = L.marker(\n",
              "                [12.9345, 77.5365],\n",
              "                {}\n",
              "            ).addTo(map_f07e320bac809785a13f6dc4aaeef3db);\n",
              "        \n",
              "    \n",
              "            var icon_f42e1a85c4bab53a8e8aa9e338c83cf4 = L.AwesomeMarkers.icon(\n",
              "                {&quot;extraClasses&quot;: &quot;fa-rotate-0&quot;, &quot;icon&quot;: &quot;info-sign&quot;, &quot;iconColor&quot;: &quot;white&quot;, &quot;markerColor&quot;: &quot;blue&quot;, &quot;prefix&quot;: &quot;glyphicon&quot;}\n",
              "            );\n",
              "            marker_79f0b58c2dd761c75a7b0f8ee1d3894a.setIcon(icon_f42e1a85c4bab53a8e8aa9e338c83cf4);\n",
              "        \n",
              "    \n",
              "        var popup_6058a5617a600ec397bf766b8d6e800d = L.popup({&quot;maxWidth&quot;: 300});\n",
              "\n",
              "        \n",
              "            \n",
              "                var i_frame_b4ebd2669a38bb80d8a438d56db044d6 = $(`&lt;iframe src=&quot;data:text/html;charset=utf-8;base64,CiAgICA8aDM+TG9jYXRpb24gMjwvaDM+PHA+RGFkZHlzIEluZGlyYW5hZ2FyPC9wPjxpbWcgc3JjPSJodHRwczovL3d3dy5nb29nbGUuY29tL3VybD9zYT1pJnVybD1odHRwcyUzQSUyRiUyRnd3dy56b21hdG8uY29tJTJGYmFuZ2Fsb3JlJTJGZGFkZHktaW5kaXJhbmFnYXItYmFuZ2Fsb3JlJnBzaWc9QU92VmF3MnRaR1Z0bVVWN1c2blV6YWk4Sm9ycSZ1c3Q9MTcxNDgxMjg0MzMwMTAwMCZzb3VyY2U9aW1hZ2VzJmNkPXZmZSZvcGk9ODk5Nzg0NDkmdmVkPTBDQklRalJ4cUZ3b1RDS2p4MmVXTjhZVURGUUFBQUFBZEFBQUFBQkFFIiBhbHQ9IkxvY2F0aW9uIEltYWdlIiBzdHlsZT0id2lkdGg6MjAwcHg7aGVpZ2h0OjE1MHB4OyI+&quot; width=&quot;300&quot; style=&quot;border:none !important;&quot; height=&quot;200&quot;&gt;&lt;/iframe&gt;`)[0];\n",
              "                popup_6058a5617a600ec397bf766b8d6e800d.setContent(i_frame_b4ebd2669a38bb80d8a438d56db044d6);\n",
              "            \n",
              "        \n",
              "\n",
              "        marker_79f0b58c2dd761c75a7b0f8ee1d3894a.bindPopup(popup_6058a5617a600ec397bf766b8d6e800d)\n",
              "        ;\n",
              "\n",
              "        \n",
              "    \n",
              "&lt;/script&gt;\n",
              "&lt;/html&gt;\" style=\"position:absolute;width:100%;height:100%;left:0;top:0;border:none !important;\" allowfullscreen webkitallowfullscreen mozallowfullscreen></iframe></div></div>"
            ]
          },
          "metadata": {},
          "execution_count": 21
        }
      ]
    }
  ]
}